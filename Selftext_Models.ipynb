{
 "cells": [
  {
   "cell_type": "markdown",
   "metadata": {},
   "source": [
    "### Model Selection and Comparison"
   ]
  },
  {
   "cell_type": "code",
   "execution_count": 1,
   "metadata": {},
   "outputs": [],
   "source": [
    "import numpy as np \n",
    "import pandas as pd\n",
    "from sklearn.feature_extraction.text import CountVectorizer, TfidfVectorizer\n",
    "from sklearn.model_selection import train_test_split, GridSearchCV\n",
    "from sklearn.pipeline import Pipeline, make_pipeline\n",
    "from sklearn.naive_bayes import MultinomialNB\n",
    "from sklearn.linear_model import LogisticRegression\n",
    "from sklearn.tree import DecisionTreeClassifier\n",
    "from sklearn.ensemble import BaggingClassifier, RandomForestClassifier, VotingClassifier, \\\n",
    "GradientBoostingClassifier, AdaBoostClassifier, StackingClassifier\n",
    "from sklearn.svm import SVC\n",
    "from sklearn.metrics import roc_auc_score, roc_curve, auc\n",
    "import matplotlib.pyplot as plt\n",
    "import seaborn as sns"
   ]
  },
  {
   "cell_type": "code",
   "execution_count": 2,
   "metadata": {},
   "outputs": [],
   "source": [
    "# Reading in cleaned data\n",
    "data = pd.read_csv('reddit_model.csv')"
   ]
  },
  {
   "cell_type": "code",
   "execution_count": 3,
   "metadata": {},
   "outputs": [
    {
     "data": {
      "text/html": [
       "<div>\n",
       "<style scoped>\n",
       "    .dataframe tbody tr th:only-of-type {\n",
       "        vertical-align: middle;\n",
       "    }\n",
       "\n",
       "    .dataframe tbody tr th {\n",
       "        vertical-align: top;\n",
       "    }\n",
       "\n",
       "    .dataframe thead th {\n",
       "        text-align: right;\n",
       "    }\n",
       "</style>\n",
       "<table border=\"1\" class=\"dataframe\">\n",
       "  <thead>\n",
       "    <tr style=\"text-align: right;\">\n",
       "      <th></th>\n",
       "      <th>subreddit</th>\n",
       "      <th>title</th>\n",
       "      <th>selftext</th>\n",
       "      <th>created_utc</th>\n",
       "      <th>pro_title</th>\n",
       "      <th>pro_selftext</th>\n",
       "      <th>lem_title</th>\n",
       "      <th>lem_selftext</th>\n",
       "    </tr>\n",
       "  </thead>\n",
       "  <tbody>\n",
       "    <tr>\n",
       "      <th>0</th>\n",
       "      <td>1</td>\n",
       "      <td>$TK &amp;amp; $TNK</td>\n",
       "      <td>Thoughts on Teekay (TK) &amp;amp; Teekay Tankers (...</td>\n",
       "      <td>1587476965</td>\n",
       "      <td>TK amp TNK</td>\n",
       "      <td>Thoughts on Teekay TK amp Teekay Tankers TNK T...</td>\n",
       "      <td>TK amp TNK</td>\n",
       "      <td>Thoughts on Teekay TK amp Teekay Tankers TNK T...</td>\n",
       "    </tr>\n",
       "    <tr>\n",
       "      <th>1</th>\n",
       "      <td>1</td>\n",
       "      <td>Investing Frameworks</td>\n",
       "      <td>Are there any frameworks/ concepts that you ha...</td>\n",
       "      <td>1587474494</td>\n",
       "      <td>Investing Frameworks</td>\n",
       "      <td>Are there any frameworks concepts that you hav...</td>\n",
       "      <td>Investing Frameworks</td>\n",
       "      <td>Are there any framework concept that you have ...</td>\n",
       "    </tr>\n",
       "    <tr>\n",
       "      <th>2</th>\n",
       "      <td>1</td>\n",
       "      <td>Long term growth calculation</td>\n",
       "      <td>Hi there, \\n\\n&amp;amp;#x200B;\\n\\nI want to valuat...</td>\n",
       "      <td>1587474287</td>\n",
       "      <td>Long term growth calculation</td>\n",
       "      <td>Hi there \\n\\nampx200B\\n\\nI want to valuate a c...</td>\n",
       "      <td>Long term growth calculation</td>\n",
       "      <td>Hi there ampx200B I want to valuate a company ...</td>\n",
       "    </tr>\n",
       "    <tr>\n",
       "      <th>3</th>\n",
       "      <td>1</td>\n",
       "      <td>Is this the perfect time for NEW companies to ...</td>\n",
       "      <td>This pandemic has demonstrated how badly thing...</td>\n",
       "      <td>1587473864</td>\n",
       "      <td>Is this the perfect time for NEW companies to ...</td>\n",
       "      <td>This pandemic has demonstrated how badly thing...</td>\n",
       "      <td>Is this the perfect time for NEW company to ta...</td>\n",
       "      <td>This pandemic ha demonstrated how badly thing ...</td>\n",
       "    </tr>\n",
       "    <tr>\n",
       "      <th>4</th>\n",
       "      <td>1</td>\n",
       "      <td>Is anyone else losing faith in the stock market?</td>\n",
       "      <td>Maybe stocks will crash again, maybe stocks wi...</td>\n",
       "      <td>1587473142</td>\n",
       "      <td>Is anyone else losing faith in the stock market</td>\n",
       "      <td>Maybe stocks will crash again maybe stocks wil...</td>\n",
       "      <td>Is anyone else losing faith in the stock market</td>\n",
       "      <td>Maybe stock will crash again maybe stock will ...</td>\n",
       "    </tr>\n",
       "  </tbody>\n",
       "</table>\n",
       "</div>"
      ],
      "text/plain": [
       "   subreddit                                              title  \\\n",
       "0          1                                     $TK &amp; $TNK   \n",
       "1          1                               Investing Frameworks   \n",
       "2          1                       Long term growth calculation   \n",
       "3          1  Is this the perfect time for NEW companies to ...   \n",
       "4          1   Is anyone else losing faith in the stock market?   \n",
       "\n",
       "                                            selftext  created_utc  \\\n",
       "0  Thoughts on Teekay (TK) &amp; Teekay Tankers (...   1587476965   \n",
       "1  Are there any frameworks/ concepts that you ha...   1587474494   \n",
       "2  Hi there, \\n\\n&amp;#x200B;\\n\\nI want to valuat...   1587474287   \n",
       "3  This pandemic has demonstrated how badly thing...   1587473864   \n",
       "4  Maybe stocks will crash again, maybe stocks wi...   1587473142   \n",
       "\n",
       "                                           pro_title  \\\n",
       "0                                         TK amp TNK   \n",
       "1                               Investing Frameworks   \n",
       "2                       Long term growth calculation   \n",
       "3  Is this the perfect time for NEW companies to ...   \n",
       "4    Is anyone else losing faith in the stock market   \n",
       "\n",
       "                                        pro_selftext  \\\n",
       "0  Thoughts on Teekay TK amp Teekay Tankers TNK T...   \n",
       "1  Are there any frameworks concepts that you hav...   \n",
       "2  Hi there \\n\\nampx200B\\n\\nI want to valuate a c...   \n",
       "3  This pandemic has demonstrated how badly thing...   \n",
       "4  Maybe stocks will crash again maybe stocks wil...   \n",
       "\n",
       "                                           lem_title  \\\n",
       "0                                         TK amp TNK   \n",
       "1                               Investing Frameworks   \n",
       "2                       Long term growth calculation   \n",
       "3  Is this the perfect time for NEW company to ta...   \n",
       "4    Is anyone else losing faith in the stock market   \n",
       "\n",
       "                                        lem_selftext  \n",
       "0  Thoughts on Teekay TK amp Teekay Tankers TNK T...  \n",
       "1  Are there any framework concept that you have ...  \n",
       "2  Hi there ampx200B I want to valuate a company ...  \n",
       "3  This pandemic ha demonstrated how badly thing ...  \n",
       "4  Maybe stock will crash again maybe stock will ...  "
      ]
     },
     "execution_count": 3,
     "metadata": {},
     "output_type": "execute_result"
    }
   ],
   "source": [
    "data.head()"
   ]
  },
  {
   "cell_type": "code",
   "execution_count": 4,
   "metadata": {},
   "outputs": [
    {
     "data": {
      "text/plain": [
       "1    0.515065\n",
       "0    0.484935\n",
       "Name: subreddit, dtype: float64"
      ]
     },
     "execution_count": 4,
     "metadata": {},
     "output_type": "execute_result"
    }
   ],
   "source": [
    "data.subreddit.value_counts(normalize=True)"
   ]
  },
  {
   "cell_type": "code",
   "execution_count": 5,
   "metadata": {},
   "outputs": [],
   "source": [
    "# Checking for nulls\n",
    "data.isnull().sum()\n",
    "\n",
    "# dropping nulls\n",
    "data.dropna(inplace=True)"
   ]
  },
  {
   "cell_type": "code",
   "execution_count": 6,
   "metadata": {},
   "outputs": [
    {
     "data": {
      "text/plain": [
       "(24400, 8)"
      ]
     },
     "execution_count": 6,
     "metadata": {},
     "output_type": "execute_result"
    }
   ],
   "source": [
    "data.shape"
   ]
  },
  {
   "cell_type": "code",
   "execution_count": 7,
   "metadata": {},
   "outputs": [],
   "source": [
    "# Creating X, y\n",
    "X = data['lem_selftext']\n",
    "y = data['subreddit']"
   ]
  },
  {
   "cell_type": "code",
   "execution_count": null,
   "metadata": {},
   "outputs": [],
   "source": []
  },
  {
   "cell_type": "code",
   "execution_count": 8,
   "metadata": {},
   "outputs": [],
   "source": [
    "# Creating train/test split\n",
    "X_train, X_test, y_train, y_test = train_test_split(X, y,\n",
    "                                                    stratify=y,\n",
    "                                                    test_size = 0.3)"
   ]
  },
  {
   "cell_type": "markdown",
   "metadata": {},
   "source": [
    "### Multinomial Naive Bayes w/ CountVectorizer"
   ]
  },
  {
   "cell_type": "code",
   "execution_count": 9,
   "metadata": {},
   "outputs": [],
   "source": [
    "# Instantiating Countvectorizer and MultinomialNB\n",
    "cvec_mnb = Pipeline([\n",
    "    ('cvec', CountVectorizer()),\n",
    "    ('mnb', MultinomialNB())\n",
    "])\n"
   ]
  },
  {
   "cell_type": "code",
   "execution_count": 10,
   "metadata": {},
   "outputs": [],
   "source": [
    "# Creating Parameters for transformer and estimator\n",
    "cvec_params = {\n",
    "    'cvec__max_features': np.arange(1_000, 3_000, 500),\n",
    "      'cvec__stop_words': ['english'],\n",
    "     'cvec__ngram_range': [(1,1), (1,2), (1,3)],\n",
    "            'mnb__alpha': [1.5, 2.0, 2.5, 3.0, 5.0]\n",
    "}\n"
   ]
  },
  {
   "cell_type": "code",
   "execution_count": 11,
   "metadata": {},
   "outputs": [
    {
     "name": "stderr",
     "output_type": "stream",
     "text": [
      "/Users/derekmcadam/opt/anaconda3/envs/dsi/lib/python3.7/site-packages/joblib/externals/loky/process_executor.py:706: UserWarning: A worker stopped while some jobs were given to the executor. This can be caused by a too short worker timeout or by a memory leak.\n",
      "  \"timeout or by a memory leak.\", UserWarning\n"
     ]
    },
    {
     "name": "stdout",
     "output_type": "stream",
     "text": [
      "Train Score: 0.860480093676815\n",
      "Test Score: 0.8540983606557377\n",
      "Best Parameters CVEC-MNB: {'cvec__max_features': 2500, 'cvec__ngram_range': (1, 1), 'cvec__stop_words': 'english', 'mnb__alpha': 2.5}\n"
     ]
    }
   ],
   "source": [
    "# Gridsearching parameters\n",
    "gs_cvec_mnb = GridSearchCV(cvec_mnb, cvec_params, cv=5, n_jobs=-1)\n",
    "\n",
    "gs_cvec_mnb.fit(X_train,\n",
    "                y_train)\n",
    "print(f\"Train Score: {gs_cvec_mnb.score(X_train, y_train)}\")\n",
    "print(f\"Test Score: {gs_cvec_mnb.score(X_test, y_test)}\")\n",
    "print(f\"Best Parameters CVEC-MNB: {gs_cvec_mnb.best_params_}\")\n",
    "# Generating Predictions and ROC-AUC Score\n",
    "preds = gs_cvec_mnb.predict(X_test)\n",
    "roc_cvec_mnb = roc_auc_score(y_test, preds)\n",
    "print(f\"ROC-AUC Score {roc_cvec_mnb}\")"
   ]
  },
  {
   "cell_type": "markdown",
   "metadata": {},
   "source": [
    "### Logistic Regression w/ CountVectorizer"
   ]
  },
  {
   "cell_type": "code",
   "execution_count": 21,
   "metadata": {},
   "outputs": [],
   "source": [
    "cvec_lr = Pipeline([\n",
    "    ('cvec', CountVectorizer(stop_words=True)),\n",
    "    ('lr', LogisticRegression())\n",
    "])\n",
    "\n",
    "cvec_params = {\n",
    "    'cvec__max_features': [2_000],\n",
    "      'cvec__stop_words': ['english'],\n",
    "     'cvec__ngram_range': [(1,1), (1,2), (1, 3)],\n",
    "           'lr__penalty': ['l1', 'l2'],\n",
    "                 'lr__C': np.linspace(.001, 5, 15),\n",
    "            'lr__solver': ['liblinear']\n",
    "}\n"
   ]
  },
  {
   "cell_type": "code",
   "execution_count": 22,
   "metadata": {},
   "outputs": [
    {
     "name": "stderr",
     "output_type": "stream",
     "text": [
      "/Users/derekmcadam/opt/anaconda3/envs/dsi/lib/python3.7/site-packages/joblib/externals/loky/process_executor.py:706: UserWarning: A worker stopped while some jobs were given to the executor. This can be caused by a too short worker timeout or by a memory leak.\n",
      "  \"timeout or by a memory leak.\", UserWarning\n"
     ]
    },
    {
     "name": "stdout",
     "output_type": "stream",
     "text": [
      "Train Score: 0.9042154566744731\n",
      "Test Score: 0.8733606557377049\n",
      "Best Parameters CVEC-LR: {'cvec__max_features': 2000, 'cvec__ngram_range': (1, 3), 'cvec__stop_words': 'english', 'lr__C': 0.35807142857142854, 'lr__penalty': 'l1', 'lr__solver': 'liblinear'}\n",
      "CPU times: user 21.4 s, sys: 10 s, total: 31.5 s\n",
      "Wall time: 8min 14s\n"
     ]
    }
   ],
   "source": [
    "%%time\n",
    "\n",
    "gs_cvec_lr = GridSearchCV(cvec_lr, cvec_params, cv=5, n_jobs=-1)\n",
    "gs_cvec_lr.fit(X_train, y_train)\n",
    "\n",
    "\n",
    "print(f\"Train Score: {gs_cvec_lr.score(X_train, y_train)}\")\n",
    "print(f\"Test Score: {gs_cvec_lr.score(X_test, y_test)}\")\n",
    "print(f\"Best Parameters CVEC-LR: {gs_cvec_lr.best_params_}\")\n",
    "preds = gs_cvec_lr.predict(X_test)\n",
    "roc_cvec_lr = roc_auc_score(y_test, preds)\n",
    "print(f\"ROC-AUC Score {roc_cvec_lr}\")"
   ]
  },
  {
   "cell_type": "markdown",
   "metadata": {},
   "source": [
    "### Logistic Regression w/ TfidfVectorizer"
   ]
  },
  {
   "cell_type": "code",
   "execution_count": 24,
   "metadata": {},
   "outputs": [],
   "source": [
    "\n",
    "tvec_lr = Pipeline([\n",
    "    ('tvec', TfidfVectorizer()),\n",
    "    ('lr', LogisticRegression())\n",
    "])\n",
    "\n",
    "tvec_params = {\n",
    "    'tvec__max_features': [2_000],\n",
    "      'tvec__stop_words': ['english'],\n",
    "     'tvec__ngram_range': [(1,1), (1,2), (1, 3)],\n",
    "           'lr__penalty': ['l1', 'l2'],\n",
    "                 'lr__C': np.linspace(.001, 5, 15),\n",
    "            'lr__solver': ['liblinear']\n",
    "}"
   ]
  },
  {
   "cell_type": "code",
   "execution_count": 25,
   "metadata": {},
   "outputs": [],
   "source": [
    "%%time\n",
    "\n",
    "gs_tvec_lr = GridSearchCV(tvec_lr, tvec_params, cv=5, n_jobs=-1)\n",
    "gs_tvec_lr.fit(X_train, y_train)"
   ]
  },
  {
   "cell_type": "code",
   "execution_count": 116,
   "metadata": {},
   "outputs": [
    {
     "name": "stdout",
     "output_type": "stream",
     "text": [
      "Train Score: 0.9087236533957845\n",
      "Test Score: 0.8831967213114754\n",
      "Best Parameters TVEC-LR: {'lr__C': 1.429285714285714, 'lr__penalty': 'l2', 'lr__solver': 'liblinear', 'tvec__max_features': 2000, 'tvec__ngram_range': (1, 1), 'tvec__stop_words': 'english'}\n"
     ]
    },
    {
     "ename": "AttributeError",
     "evalue": "'LogisticRegression' object has no attribute 'coef_'",
     "output_type": "error",
     "traceback": [
      "\u001b[0;31m---------------------------------------------------------------------------\u001b[0m",
      "\u001b[0;31mAttributeError\u001b[0m                            Traceback (most recent call last)",
      "\u001b[0;32m<ipython-input-116-ffa7a74e2d0c>\u001b[0m in \u001b[0;36m<module>\u001b[0;34m\u001b[0m\n\u001b[1;32m      2\u001b[0m \u001b[0mprint\u001b[0m\u001b[0;34m(\u001b[0m\u001b[0;34mf\"Test Score: {gs_tvec_lr.score(X_test, y_test)}\"\u001b[0m\u001b[0;34m)\u001b[0m\u001b[0;34m\u001b[0m\u001b[0;34m\u001b[0m\u001b[0m\n\u001b[1;32m      3\u001b[0m \u001b[0mprint\u001b[0m\u001b[0;34m(\u001b[0m\u001b[0;34mf\"Best Parameters TVEC-LR: {gs_tvec_lr.best_params_}\"\u001b[0m\u001b[0;34m)\u001b[0m\u001b[0;34m\u001b[0m\u001b[0;34m\u001b[0m\u001b[0m\n\u001b[0;32m----> 4\u001b[0;31m \u001b[0mcoefs\u001b[0m \u001b[0;34m=\u001b[0m \u001b[0mgs_tvec_lr\u001b[0m\u001b[0;34m.\u001b[0m\u001b[0mestimator\u001b[0m\u001b[0;34m.\u001b[0m\u001b[0mnamed_steps\u001b[0m\u001b[0;34m.\u001b[0m\u001b[0mlr\u001b[0m\u001b[0;34m.\u001b[0m\u001b[0mcoef_\u001b[0m\u001b[0;34m\u001b[0m\u001b[0;34m\u001b[0m\u001b[0m\n\u001b[0m",
      "\u001b[0;31mAttributeError\u001b[0m: 'LogisticRegression' object has no attribute 'coef_'"
     ]
    }
   ],
   "source": [
    "print(f\"Train Score: {gs_tvec_lr.score(X_train, y_train)}\")\n",
    "print(f\"Test Score: {gs_tvec_lr.score(X_test, y_test)}\")\n",
    "print(f\"Best Parameters TVEC-LR: {gs_tvec_lr.best_params_}\")\n",
    "# gs_tvec_lr.best_estimator_.named_steps.tvec.get_feature_names()\n",
    "preds = gs_tvec_lr.predict(X_test)\n",
    "roc_tvec_lr = roc_auc_score(y_test, preds)\n",
    "print(f\"ROC-AUC Score {roc_tvec_lr}\")"
   ]
  },
  {
   "cell_type": "code",
   "execution_count": 115,
   "metadata": {},
   "outputs": [
    {
     "ename": "AttributeError",
     "evalue": "'list' object has no attribute 'lr'",
     "output_type": "error",
     "traceback": [
      "\u001b[0;31m---------------------------------------------------------------------------\u001b[0m",
      "\u001b[0;31mAttributeError\u001b[0m                            Traceback (most recent call last)",
      "\u001b[0;32m<ipython-input-115-39c55bfcec27>\u001b[0m in \u001b[0;36m<module>\u001b[0;34m\u001b[0m\n\u001b[0;32m----> 1\u001b[0;31m \u001b[0mgs_tvec_lr\u001b[0m\u001b[0;34m.\u001b[0m\u001b[0mestimator\u001b[0m\u001b[0;34m.\u001b[0m\u001b[0msteps\u001b[0m\u001b[0;34m.\u001b[0m\u001b[0mlr\u001b[0m\u001b[0;34m\u001b[0m\u001b[0;34m\u001b[0m\u001b[0m\n\u001b[0m",
      "\u001b[0;31mAttributeError\u001b[0m: 'list' object has no attribute 'lr'"
     ]
    }
   ],
   "source": [
    "# Saving coefs in a variable\n",
    "coefs = gs_tvec_lr.estimator.named_steps.lr.coef_"
   ]
  },
  {
   "cell_type": "markdown",
   "metadata": {},
   "source": [
    "### BaggingClassifier w/ CountVectorizer"
   ]
  },
  {
   "cell_type": "code",
   "execution_count": 27,
   "metadata": {},
   "outputs": [],
   "source": [
    "cvec_bagcl = Pipeline([\n",
    "    ('cvec', CountVectorizer()),\n",
    "    ('bagcl', BaggingClassifier())\n",
    "])\n",
    "\n",
    "cvec_params = {\n",
    "    'cvec__max_features': [2_000],\n",
    "      'cvec__stop_words': ['english'],\n",
    "     'cvec__ngram_range': [(1,1), (1,2), (1, 3)],\n",
    "    'bagcl__max_samples': [1_000, 2_000]\n",
    "}"
   ]
  },
  {
   "cell_type": "code",
   "execution_count": 28,
   "metadata": {},
   "outputs": [
    {
     "name": "stderr",
     "output_type": "stream",
     "text": [
      "/Users/derekmcadam/opt/anaconda3/envs/dsi/lib/python3.7/site-packages/joblib/externals/loky/process_executor.py:706: UserWarning: A worker stopped while some jobs were given to the executor. This can be caused by a too short worker timeout or by a memory leak.\n",
      "  \"timeout or by a memory leak.\", UserWarning\n"
     ]
    },
    {
     "name": "stdout",
     "output_type": "stream",
     "text": [
      "Train Score: 0.8597189695550351\n",
      "Test Score: 0.8378415300546448\n",
      "Best Parameters LR-CVEC: {'bagcl__max_samples': 2000, 'cvec__max_features': 2000, 'cvec__ngram_range': (1, 3), 'cvec__stop_words': 'english'}\n",
      "CPU times: user 12.5 s, sys: 673 ms, total: 13.1 s\n",
      "Wall time: 38.1 s\n"
     ]
    }
   ],
   "source": [
    "%%time\n",
    "\n",
    "gs_bagcl_cvec = GridSearchCV(cvec_bagcl, cvec_params, cv=5, n_jobs=-1)\n",
    "gs_bagcl_cvec.fit(X_train, y_train)\n",
    "print(f\"Train Score: {gs_bagcl_cvec.score(X_train, y_train)}\")\n",
    "print(f\"Test Score: {gs_bagcl_cvec.score(X_test, y_test)}\")\n",
    "print(f\"Best Parameters LR-CVEC: {gs_bagcl_cvec.best_params_ }\")\n",
    "preds = gs_bagcl_cvec.predict(X_test)\n",
    "roc_bagcl_cvec = roc_auc_score(y_test, preds)\n",
    "print(f\"ROC-AUC Score {roc_bagcl_cvec}\")"
   ]
  },
  {
   "cell_type": "markdown",
   "metadata": {},
   "source": [
    "### BaggingClassifier w/ TfidfVectorizer"
   ]
  },
  {
   "cell_type": "code",
   "execution_count": 30,
   "metadata": {},
   "outputs": [],
   "source": [
    "tvec_bagcl = Pipeline([\n",
    "    ('tvec', TfidfVectorizer()),\n",
    "    ('bagcl', BaggingClassifier())\n",
    "])\n",
    "\n",
    "tvec_params = {\n",
    "    'tvec__max_features': [2_000],\n",
    "      'tvec__stop_words': ['english'],\n",
    "     'tvec__ngram_range': [(1,1), (1,2), (1, 3)],\n",
    "    'bagcl__max_samples': [1_000, 2_000]\n",
    "}"
   ]
  },
  {
   "cell_type": "code",
   "execution_count": 31,
   "metadata": {},
   "outputs": [
    {
     "name": "stderr",
     "output_type": "stream",
     "text": [
      "/Users/derekmcadam/opt/anaconda3/envs/dsi/lib/python3.7/site-packages/joblib/externals/loky/process_executor.py:706: UserWarning: A worker stopped while some jobs were given to the executor. This can be caused by a too short worker timeout or by a memory leak.\n",
      "  \"timeout or by a memory leak.\", UserWarning\n"
     ]
    },
    {
     "name": "stdout",
     "output_type": "stream",
     "text": [
      "Train Score: 0.8668618266978922\n",
      "Test Score: 0.8392076502732241\n",
      "Best Parameters LR-TVEC: {'bagcl__max_samples': 2000, 'tvec__max_features': 2000, 'tvec__ngram_range': (1, 2), 'tvec__stop_words': 'english'}\n",
      "CPU times: user 9.4 s, sys: 486 ms, total: 9.89 s\n",
      "Wall time: 33.8 s\n"
     ]
    }
   ],
   "source": [
    "%%time\n",
    "\n",
    "gs_bagcl_tvec = GridSearchCV(tvec_bagcl, tvec_params, cv=5, n_jobs=-1)\n",
    "gs_bagcl_tvec.fit(X_train, y_train)\n",
    "print(f\"Train Score: {gs_bagcl_tvec.score(X_train, y_train)}\")\n",
    "print(f\"Test Score: {gs_bagcl_tvec.score(X_test, y_test)}\")\n",
    "print(f\"Best Parameters LR-TVEC: {gs_bagcl_tvec.best_params_ }\")\n",
    "preds = gs_bagcl_tvec.predict(X_test)\n",
    "roc_bagcl_tvec = roc_auc_score(y_test, preds)\n",
    "print(f\"ROC-AUC Score {roc_bagcl_tvec}\")"
   ]
  },
  {
   "cell_type": "markdown",
   "metadata": {},
   "source": [
    "### Support Vector Classifier w/ CountVectorizer"
   ]
  },
  {
   "cell_type": "code",
   "execution_count": 33,
   "metadata": {},
   "outputs": [],
   "source": [
    "svc_cvec_params = {\n",
    "    'cvec__max_features': np.arange(1_500, 3_500, 500),\n",
    "      'cvec__stop_words': ['english'],\n",
    "     'cvec__ngram_range': [(1,1), (1,2), (1, 3)],\n",
    "           'svc__degree': [2],\n",
    "                'svc__C': [2.0, 3.0, 5.0]\n",
    "}\n",
    "svc_cvec = Pipeline([\n",
    "    ('cvec', CountVectorizer()),\n",
    "    ('svc', SVC())\n",
    "])"
   ]
  },
  {
   "cell_type": "code",
   "execution_count": 34,
   "metadata": {},
   "outputs": [
    {
     "name": "stderr",
     "output_type": "stream",
     "text": [
      "/Users/derekmcadam/opt/anaconda3/envs/dsi/lib/python3.7/site-packages/joblib/externals/loky/process_executor.py:706: UserWarning: A worker stopped while some jobs were given to the executor. This can be caused by a too short worker timeout or by a memory leak.\n",
      "  \"timeout or by a memory leak.\", UserWarning\n"
     ]
    },
    {
     "name": "stdout",
     "output_type": "stream",
     "text": [
      "Train Score: 0.9255269320843091\n",
      "Test Score: 0.8734972677595628\n",
      "Best Parameters SVC-CVEC: {'cvec__max_features': 2000, 'cvec__ngram_range': (1, 1), 'cvec__stop_words': 'english', 'svc__C': 5.0, 'svc__degree': 2}\n",
      "CPU times: user 54.3 s, sys: 4.53 s, total: 58.8 s\n",
      "Wall time: 11min 14s\n"
     ]
    }
   ],
   "source": [
    "%%time\n",
    "\n",
    "gs_svc_cvec = GridSearchCV(svc_cvec, svc_cvec_params, cv=5, n_jobs=-1)\n",
    "\n",
    "gs_svc_cvec.fit(X_train, y_train)\n",
    "print(f\"Train Score: {gs_svc_cvec.score(X_train, y_train)}\")\n",
    "print(f\"Test Score: {gs_svc_cvec.score(X_test, y_test)}\")\n",
    "print(f\"Best Parameters SVC-CVEC: {gs_svc_cvec.best_params_ }\")\n",
    "preds = gs_svc_cvec.predict(X_test)\n",
    "roc_svc_cvec = roc_auc_score(y_test, preds)\n",
    "print(f\"ROC-AUC Score {roc_svc_cvec}\")"
   ]
  },
  {
   "cell_type": "markdown",
   "metadata": {},
   "source": [
    "### Support Vector Classifier w/ TfidfVectorizer"
   ]
  },
  {
   "cell_type": "code",
   "execution_count": 36,
   "metadata": {},
   "outputs": [],
   "source": [
    "svc_tvec_params = {\n",
    "    'tvec__max_features': [750],\n",
    "      'tvec__stop_words': ['english'],\n",
    "     'tvec__ngram_range': [(1,1)],\n",
    "           'svc__degree': [2],\n",
    "                'svc__C': [5.0]\n",
    "}\n",
    "svc_tvec = Pipeline([\n",
    "    ('tvec', TfidfVectorizer()),\n",
    "    ('svc', SVC())\n",
    "])"
   ]
  },
  {
   "cell_type": "code",
   "execution_count": 37,
   "metadata": {},
   "outputs": [
    {
     "name": "stdout",
     "output_type": "stream",
     "text": [
      "Train Score: 0.9908079625292741\n",
      "Test Score: 0.8786885245901639\n",
      "Best Parameters SVC-TVEC: {'svc__C': 5.0, 'svc__degree': 2, 'tvec__max_features': 750, 'tvec__ngram_range': (1, 1), 'tvec__stop_words': 'english'}\n",
      "CPU times: user 1min 41s, sys: 529 ms, total: 1min 42s\n",
      "Wall time: 2min 38s\n"
     ]
    }
   ],
   "source": [
    "%%time\n",
    "\n",
    "gs_svc_tvec = GridSearchCV(svc_tvec, svc_tvec_params, cv=5, n_jobs=-1)\n",
    "\n",
    "gs_svc_tvec.fit(X_train, y_train)\n",
    "print(f\"Train Score: {gs_svc_tvec.score(X_train, y_train)}\")\n",
    "print(f\"Test Score: {gs_svc_tvec.score(X_test, y_test)}\")\n",
    "print(f\"Best Parameters SVC-TVEC: {gs_svc_tvec.best_params_ }\")\n",
    "preds = gs_svc_tvec.predict(X_test)\n",
    "roc_svc_tvec = roc_auc_score(y_test, preds)\n",
    "print(f\"ROC-AUC Score {roc_svc_tvec}\")"
   ]
  },
  {
   "cell_type": "markdown",
   "metadata": {},
   "source": [
    "### Random Forrest Classifier w/ CountVectorizer"
   ]
  },
  {
   "cell_type": "code",
   "execution_count": 39,
   "metadata": {},
   "outputs": [],
   "source": [
    "cvec_params = {\n",
    "    'cvec__max_features': [500, 1_000, 1_500],\n",
    "      'cvec__stop_words': ['english'],\n",
    "     'cvec__ngram_range': [(1,1), (1,2), (1,3)],\n",
    "     'rfc__n_estimators': [50, 100],\n",
    "'rfc__min_samples_split': [5, 8, 10],\n",
    " 'rfc__min_samples_leaf': [3, 5, 8]\n",
    "}\n",
    "\n",
    "cvec_rfc = Pipeline([\n",
    "    ('cvec', CountVectorizer()),\n",
    "    ('rfc', RandomForestClassifier())\n",
    "])"
   ]
  },
  {
   "cell_type": "code",
   "execution_count": 40,
   "metadata": {},
   "outputs": [
    {
     "name": "stderr",
     "output_type": "stream",
     "text": [
      "/Users/derekmcadam/opt/anaconda3/envs/dsi/lib/python3.7/site-packages/joblib/externals/loky/process_executor.py:706: UserWarning: A worker stopped while some jobs were given to the executor. This can be caused by a too short worker timeout or by a memory leak.\n",
      "  \"timeout or by a memory leak.\", UserWarning\n"
     ]
    },
    {
     "name": "stdout",
     "output_type": "stream",
     "text": [
      "Train Score: 0.9218384074941453\n",
      "Test Score: 0.8793715846994535\n",
      "Best Parameters RFC-CVEC: {'cvec__max_features': 1500, 'cvec__ngram_range': (1, 1), 'cvec__stop_words': 'english', 'rfc__min_samples_leaf': 3, 'rfc__min_samples_split': 8, 'rfc__n_estimators': 100}\n",
      "CPU times: user 31.9 s, sys: 25.8 s, total: 57.6 s\n",
      "Wall time: 12min 29s\n"
     ]
    }
   ],
   "source": [
    "%%time\n",
    "\n",
    "gs_rfc_cvec = GridSearchCV(cvec_rfc, param_grid=cvec_params, cv=5, n_jobs=-1)\n",
    "\n",
    "gs_rfc_cvec.fit(X_train, y_train)\n",
    "print(f\"Train Score: {gs_rfc_cvec.score(X_train, y_train)}\")\n",
    "print(f\"Test Score: {gs_rfc_cvec.score(X_test, y_test)}\")\n",
    "print(f\"Best Parameters RFC-CVEC: {gs_rfc_cvec.best_params_ }\")\n",
    "preds = gs_rfc_cvec.predict(X_test)\n",
    "roc_rfc_cvec = roc_auc_score(y_test, preds)\n",
    "print(f\"ROC-AUC Score {roc_rfc_cvec}\")"
   ]
  },
  {
   "cell_type": "markdown",
   "metadata": {},
   "source": [
    "### Random Forrest Classifier w/ TfidfVectorizer"
   ]
  },
  {
   "cell_type": "code",
   "execution_count": 42,
   "metadata": {},
   "outputs": [],
   "source": [
    "tvec_params = {\n",
    "    'tvec__max_features': [1_000],\n",
    "      'tvec__stop_words': ['english'],\n",
    "     'tvec__ngram_range': [(1,1), (1,2), (1,3)],\n",
    "     'rfc__n_estimators': [50, 100],\n",
    "'rfc__min_samples_split': [5, 8, 10],\n",
    " 'rfc__min_samples_leaf': [3, 5, 8]\n",
    "}\n",
    "\n",
    "tvec_rfc = Pipeline([\n",
    "    ('tvec', TfidfVectorizer()),\n",
    "    ('rfc', RandomForestClassifier())\n",
    "])"
   ]
  },
  {
   "cell_type": "code",
   "execution_count": 43,
   "metadata": {},
   "outputs": [
    {
     "name": "stderr",
     "output_type": "stream",
     "text": [
      "/Users/derekmcadam/opt/anaconda3/envs/dsi/lib/python3.7/site-packages/joblib/externals/loky/process_executor.py:706: UserWarning: A worker stopped while some jobs were given to the executor. This can be caused by a too short worker timeout or by a memory leak.\n",
      "  \"timeout or by a memory leak.\", UserWarning\n"
     ]
    },
    {
     "name": "stdout",
     "output_type": "stream",
     "text": [
      "Train Score: 0.9363583138173303\n",
      "Test Score: 0.8754098360655738\n",
      "Best Parameters RFC-TVEC: {'rfc__min_samples_leaf': 3, 'rfc__min_samples_split': 10, 'rfc__n_estimators': 100, 'tvec__max_features': 1000, 'tvec__ngram_range': (1, 3), 'tvec__stop_words': 'english'}\n",
      "CPU times: user 25.3 s, sys: 9.11 s, total: 34.4 s\n",
      "Wall time: 5min\n"
     ]
    }
   ],
   "source": [
    "%%time\n",
    "\n",
    "gs_rfc_tvec = GridSearchCV(tvec_rfc, param_grid=tvec_params, cv=5, n_jobs=-1)\n",
    "\n",
    "gs_rfc_tvec.fit(X_train, y_train)\n",
    "print(f\"Train Score: {gs_rfc_tvec.score(X_train, y_train)}\")\n",
    "print(f\"Test Score: {gs_rfc_tvec.score(X_test, y_test)}\")\n",
    "print(f\"Best Parameters RFC-TVEC: {gs_rfc_tvec.best_params_ }\")\n",
    "preds = gs_rfc_tvec.predict(X_test)\n",
    "roc_rfc_tvec = roc_auc_score(y_test, \n",
    "                             preds)\n",
    "print(f\"ROC-AUC Score {roc_rfc_tvec}\")"
   ]
  },
  {
   "cell_type": "markdown",
   "metadata": {},
   "source": [
    "### Voting Classifier w/ CountVectorizer"
   ]
  },
  {
   "cell_type": "code",
   "execution_count": 45,
   "metadata": {},
   "outputs": [
    {
     "name": "stdout",
     "output_type": "stream",
     "text": [
      "Train Score: 0.9070257611241218\n",
      "Test Score: 0.8674863387978142\n"
     ]
    },
    {
     "ename": "AttributeError",
     "evalue": "'Pipeline' object has no attribute 'best_params_'",
     "output_type": "error",
     "traceback": [
      "\u001b[0;31m---------------------------------------------------------------------------\u001b[0m",
      "\u001b[0;31mAttributeError\u001b[0m                            Traceback (most recent call last)",
      "\u001b[0;32m<ipython-input-45-00676864f8a6>\u001b[0m in \u001b[0;36m<module>\u001b[0;34m\u001b[0m\n\u001b[1;32m     19\u001b[0m \u001b[0mprint\u001b[0m\u001b[0;34m(\u001b[0m\u001b[0;34mf\"Train Score: {model_vc_cvec.score(X_train, y_train)}\"\u001b[0m\u001b[0;34m)\u001b[0m\u001b[0;34m\u001b[0m\u001b[0;34m\u001b[0m\u001b[0m\n\u001b[1;32m     20\u001b[0m \u001b[0mprint\u001b[0m\u001b[0;34m(\u001b[0m\u001b[0;34mf\"Test Score: {model_vc_cvec.score(X_test, y_test)}\"\u001b[0m\u001b[0;34m)\u001b[0m\u001b[0;34m\u001b[0m\u001b[0;34m\u001b[0m\u001b[0m\n\u001b[0;32m---> 21\u001b[0;31m \u001b[0mprint\u001b[0m\u001b[0;34m(\u001b[0m\u001b[0;34mf\"Best Params Voting-Class-Cvec: {model_vc_cvec.best_params_}\"\u001b[0m\u001b[0;34m)\u001b[0m\u001b[0;34m\u001b[0m\u001b[0;34m\u001b[0m\u001b[0m\n\u001b[0m",
      "\u001b[0;31mAttributeError\u001b[0m: 'Pipeline' object has no attribute 'best_params_'"
     ]
    }
   ],
   "source": [
    "('clf', VotingClassifier(n_jobs=-1, estimators=[('clf1', DecisionTreeClassifier(max_depth= [2, 5])), \n",
    "                                                ('clf2', SVC(degree = 2)), \n",
    "                                                ('clf3', GradientBoostingClassifier(n_estimators= [50, 75, 100]))\n",
    "                                            ]))    \n",
    "\n",
    "model_vc_cvec = Pipeline([\n",
    "         ('cvec', CountVectorizer(max_features= 1_000,\n",
    "                                  stop_words= 'english',\n",
    "                                  ngram_range= [1, 1])),\n",
    "    \n",
    "         ('clf', VotingClassifier(estimators=[\n",
    "                                     ('clf1', DecisionTreeClassifier()), \n",
    "                                     ('clf2', SVC()), \n",
    "                                     ('clf3', GradientBoostingClassifier())\n",
    "                                            ])) \n",
    "])\n",
    "\n",
    "model_vc_cvec.fit(X_train, y_train)\n",
    "print(f\"Train Score: {model_vc_cvec.score(X_train, y_train)}\")\n",
    "print(f\"Test Score: {model_vc_cvec.score(X_test, y_test)}\")\n",
    "preds = model_vc_cvec.predict(X_test)\n",
    "roc_vc_cvec = roc_auc_score(y_test, preds)\n",
    "print(f\"ROC-AUC Score {roc_vc_cvec}\")"
   ]
  },
  {
   "cell_type": "markdown",
   "metadata": {},
   "source": [
    "### Voting Classifier w/ TfidfClassifier"
   ]
  },
  {
   "cell_type": "code",
   "execution_count": 58,
   "metadata": {},
   "outputs": [
    {
     "name": "stdout",
     "output_type": "stream",
     "text": [
      "Train Score: 0.9646370023419204\n",
      "Test Score: 0.871448087431694\n"
     ]
    }
   ],
   "source": [
    "('clf', VotingClassifier(n_jobs=-1, estimators=[('clf1', DecisionTreeClassifier(max_depth= [2, 5])), \n",
    "                                                ('clf2', SVC(degree = 2)), \n",
    "                                                ('clf3', GradientBoostingClassifier(n_estimators= [50, 75, 100]))\n",
    "                                            ]))    \n",
    "\n",
    "model_vc_tvec = Pipeline([\n",
    "         ('tvec', TfidfVectorizer(max_features= 1_000,\n",
    "                                  stop_words= 'english',\n",
    "                                  ngram_range= (1,1))),\n",
    "    \n",
    "         ('clf', VotingClassifier(estimators=[\n",
    "                                     ('clf1', DecisionTreeClassifier()), \n",
    "                                     ('clf2', SVC()), \n",
    "                                     ('clf3', GradientBoostingClassifier())\n",
    "                                            ])) \n",
    "])\n",
    "\n",
    "model_vc_tvec.fit(X_train, y_train)\n",
    "print(f\"Train Score: {model_vc_tvec.score(X_train, y_train)}\")\n",
    "print(f\"Test Score: {model_vc_tvec.score(X_test, y_test)}\")\n",
    "preds = model_vc_tvec.predict(X_test)\n",
    "roc_vc_tvec = roc_auc_score(y_test, preds)\n",
    "print(f\"ROC-AUC Score {roc_vc_tvec}\")"
   ]
  },
  {
   "cell_type": "markdown",
   "metadata": {},
   "source": [
    "### Stacked Classifier w/ Countvectorizer"
   ]
  },
  {
   "cell_type": "code",
   "execution_count": 62,
   "metadata": {},
   "outputs": [
    {
     "name": "stdout",
     "output_type": "stream",
     "text": [
      "Train Score: 0.9366510538641686\n",
      "Test Score: 0.8769125683060109\n"
     ]
    },
    {
     "ename": "AttributeError",
     "evalue": "'Pipeline' object has no attribute 'best_params_'",
     "output_type": "error",
     "traceback": [
      "\u001b[0;31m---------------------------------------------------------------------------\u001b[0m",
      "\u001b[0;31mAttributeError\u001b[0m                            Traceback (most recent call last)",
      "\u001b[0;32m<ipython-input-62-e62d17d90e94>\u001b[0m in \u001b[0;36m<module>\u001b[0;34m\u001b[0m\n\u001b[1;32m     17\u001b[0m \u001b[0mprint\u001b[0m\u001b[0;34m(\u001b[0m\u001b[0;34mf\"Train Score: {stack_model_cvec.score(X_train, y_train)}\"\u001b[0m\u001b[0;34m)\u001b[0m\u001b[0;34m\u001b[0m\u001b[0;34m\u001b[0m\u001b[0m\n\u001b[1;32m     18\u001b[0m \u001b[0mprint\u001b[0m\u001b[0;34m(\u001b[0m\u001b[0;34mf\"Test Score: {stack_model_cvec.score(X_test, y_test)}\"\u001b[0m\u001b[0;34m)\u001b[0m\u001b[0;34m\u001b[0m\u001b[0;34m\u001b[0m\u001b[0m\n\u001b[0;32m---> 19\u001b[0;31m \u001b[0mprint\u001b[0m\u001b[0;34m(\u001b[0m\u001b[0;34mf\"Best Params Stacked-Model-CVEC: {stack_model_cvec.best_params_}\"\u001b[0m\u001b[0;34m)\u001b[0m\u001b[0;34m\u001b[0m\u001b[0;34m\u001b[0m\u001b[0m\n\u001b[0m",
      "\u001b[0;31mAttributeError\u001b[0m: 'Pipeline' object has no attribute 'best_params_'"
     ]
    }
   ],
   "source": [
    "estimators = [\n",
    "    ('rf', BaggingClassifier(bootstrap=False, max_features=1_000)),\n",
    "    ('svc', SVC(degree=2, C=3.0))\n",
    "]\n",
    "\n",
    "stack_model_cvec = Pipeline([\n",
    "         ('cvec', CountVectorizer(max_features= 1_000,\n",
    "                              stop_words= 'english',\n",
    "                              ngram_range= (1,1))),\n",
    "    \n",
    "         ('stack', StackingClassifier(estimators=estimators,\n",
    "                                      final_estimator=LogisticRegression(C=2.0)\n",
    "                                            )) \n",
    "])\n",
    "\n",
    "stack_model_cvec.fit(X_train, y_train)\n",
    "print(f\"Train Score: {stack_model_cvec.score(X_train, y_train)}\")\n",
    "print(f\"Test Score: {stack_model_cvec.score(X_test, y_test)}\")\n",
    "preds = stack_model_cvec.predict(X_test)\n",
    "roc_stack_cvec = roc_auc_score(y_test, preds)\n",
    "print(f\"ROC-AUC Score {roc_stack_cvec}\")"
   ]
  },
  {
   "cell_type": "markdown",
   "metadata": {},
   "source": [
    "### Stacked Classifier w/ TfidfVectorizer"
   ]
  },
  {
   "cell_type": "code",
   "execution_count": 64,
   "metadata": {},
   "outputs": [
    {
     "name": "stdout",
     "output_type": "stream",
     "text": [
      "Train Score: 0.9908079625292741\n",
      "Test Score: 0.8848360655737705\n"
     ]
    }
   ],
   "source": [
    "estimators = [\n",
    "    ('rf', BaggingClassifier(bootstrap=False, max_features=1_000)),\n",
    "    ('svc', SVC(degree=2, C=3.0))\n",
    "]\n",
    "\n",
    "stack_model_tvec = Pipeline([\n",
    "         ('tvec', TfidfVectorizer(max_features= 1_000,\n",
    "                              stop_words= 'english',\n",
    "                              ngram_range= (1,1))),\n",
    "    \n",
    "         ('stack', StackingClassifier(estimators=estimators,\n",
    "                                      final_estimator=LogisticRegression(C=2.0))\n",
    "         ) \n",
    "])\n",
    "\n",
    "stack_model_tvec.fit(X_train, y_train)\n",
    "print(f\"Train Score: {stack_model_tvec.score(X_train, y_train)}\")\n",
    "print(f\"Test Score: {stack_model_tvec.score(X_test, y_test)}\")\n",
    "preds = stack_model_tvec.predict(X_test)\n",
    "roc_stack_tvec = roc_auc_score(y_test, preds)\n",
    "print(f\"ROC-AUC Score {roc_stack_tvec}\")"
   ]
  },
  {
   "cell_type": "markdown",
   "metadata": {},
   "source": [
    "### Stacked Model w/ CountVectorizer & GradientBoost"
   ]
  },
  {
   "cell_type": "code",
   "execution_count": 67,
   "metadata": {},
   "outputs": [
    {
     "name": "stdout",
     "output_type": "stream",
     "text": [
      "Train Score: 0.9132318501170961\n",
      " Test Score: 0.8790983606557377\n"
     ]
    }
   ],
   "source": [
    "estimators = [\n",
    "    ('tree', DecisionTreeClassifier()),\n",
    "    ('gbc', GradientBoostingClassifier()),\n",
    "    ('svc', SVC(degree=2))\n",
    "]\n",
    "\n",
    "stack_model_boost = Pipeline([\n",
    "         ('cvec', CountVectorizer(max_features= 1_000,\n",
    "                              stop_words= 'english',\n",
    "                              ngram_range= (1,1))),\n",
    "    \n",
    "        ('stack', StackingClassifier(estimators=estimators,\n",
    "                                     final_estimator=LogisticRegression(C=3.0))\n",
    "                                            ) \n",
    "])\n",
    "\n",
    "stack_model_boost.fit(X_train, y_train)\n",
    "print(f\"Train Score: {stack_model_boost.score(X_train, y_train)}\")\n",
    "print(f\" Test Score: {stack_model_boost.score(X_test, y_test)}\")\n",
    "preds = stack_model_boost.predict(X_test)\n",
    "roc_boost_cvec = roc_auc_score(y_test, preds)\n",
    "print(f\"ROC-AUC Score {roc_boost_cvec}\")"
   ]
  },
  {
   "cell_type": "markdown",
   "metadata": {},
   "source": [
    "### Stacked Model w/ TfidfVectorizer & GradientBoost"
   ]
  },
  {
   "cell_type": "code",
   "execution_count": 69,
   "metadata": {},
   "outputs": [
    {
     "name": "stdout",
     "output_type": "stream",
     "text": [
      "Train Score: Pipeline(memory=None,\n",
      "         steps=[('tvec',\n",
      "                 TfidfVectorizer(analyzer='word', binary=False,\n",
      "                                 decode_error='strict',\n",
      "                                 dtype=<class 'numpy.float64'>,\n",
      "                                 encoding='utf-8', input='content',\n",
      "                                 lowercase=True, max_df=1.0, max_features=1000,\n",
      "                                 min_df=1, ngram_range=(1, 1), norm='l2',\n",
      "                                 preprocessor=None, smooth_idf=True,\n",
      "                                 stop_words='english', strip_accents=None,\n",
      "                                 sublinear_tf=False,\n",
      "                                 token_patte...\n",
      "                                                     shrinking=True, tol=0.001,\n",
      "                                                     verbose=False))],\n",
      "                                    final_estimator=LogisticRegression(C=3.0,\n",
      "                                                                       class_weight=None,\n",
      "                                                                       dual=False,\n",
      "                                                                       fit_intercept=True,\n",
      "                                                                       intercept_scaling=1,\n",
      "                                                                       l1_ratio=None,\n",
      "                                                                       max_iter=100,\n",
      "                                                                       multi_class='auto',\n",
      "                                                                       n_jobs=None,\n",
      "                                                                       penalty='l2',\n",
      "                                                                       random_state=None,\n",
      "                                                                       solver='lbfgs',\n",
      "                                                                       tol=0.0001,\n",
      "                                                                       verbose=0,\n",
      "                                                                       warm_start=False),\n",
      "                                    n_jobs=None, passthrough=False,\n",
      "                                    stack_method='auto', verbose=0))],\n",
      "         verbose=False)\n",
      "Test Score: 0.8882513661202186\n"
     ]
    }
   ],
   "source": [
    "estimators = [\n",
    "    ('tree', DecisionTreeClassifier()),\n",
    "    ('gbc', GradientBoostingClassifier()),\n",
    "    ('svc', SVC(degree=2))\n",
    "]\n",
    "\n",
    "stack_model_boost_tvec = Pipeline([\n",
    "         ('tvec', TfidfVectorizer(max_features= 1_000,\n",
    "                              stop_words= 'english',\n",
    "                              ngram_range= (1,1))),\n",
    "    \n",
    "        ('stack', StackingClassifier(estimators=estimators,\n",
    "                                     final_estimator=LogisticRegression(C=3.0))\n",
    "                                            ) \n",
    "])\n",
    "\n",
    "stack_model_boost_tvec.fit(X_train, y_train)\n",
    "print(f\"Train Score: {stack_model_boost_tvec.score(X_train, y_train)}\")\n",
    "print(f\"Test Score: {stack_model_boost_tvec.score(X_test, y_test)}\")\n",
    "preds = stack_model_boost_tvec.predict(X_test)\n",
    "roc_boost_tvec = roc_auc_score(y_test, preds)\n",
    "print(f\"ROC-AUC Score {roc_boost_tvec}\")"
   ]
  },
  {
   "cell_type": "code",
   "execution_count": 121,
   "metadata": {},
   "outputs": [],
   "source": [
    "# Creating dataframe of tfidf-logistic regression coefficients\n",
    "log_coefs = pd.DataFrame(gs_tvec_lr.best_estimator_.named_steps.lr.coef_ , \n",
    "                        columns=gs_tvec_lr.best_estimator_.named_steps.tvec.get_feature_names())"
   ]
  },
  {
   "cell_type": "code",
   "execution_count": 128,
   "metadata": {},
   "outputs": [
    {
     "data": {
      "text/html": [
       "<div>\n",
       "<style scoped>\n",
       "    .dataframe tbody tr th:only-of-type {\n",
       "        vertical-align: middle;\n",
       "    }\n",
       "\n",
       "    .dataframe tbody tr th {\n",
       "        vertical-align: top;\n",
       "    }\n",
       "\n",
       "    .dataframe thead th {\n",
       "        text-align: right;\n",
       "    }\n",
       "</style>\n",
       "<table border=\"1\" class=\"dataframe\">\n",
       "  <thead>\n",
       "    <tr style=\"text-align: right;\">\n",
       "      <th></th>\n",
       "      <th>0</th>\n",
       "    </tr>\n",
       "  </thead>\n",
       "  <tbody>\n",
       "    <tr>\n",
       "      <th>stock</th>\n",
       "      <td>6.009859</td>\n",
       "    </tr>\n",
       "    <tr>\n",
       "      <th>investing</th>\n",
       "      <td>3.712578</td>\n",
       "    </tr>\n",
       "    <tr>\n",
       "      <th>share</th>\n",
       "      <td>3.190805</td>\n",
       "    </tr>\n",
       "    <tr>\n",
       "      <th>opinion</th>\n",
       "      <td>3.008397</td>\n",
       "    </tr>\n",
       "    <tr>\n",
       "      <th>year</th>\n",
       "      <td>2.923126</td>\n",
       "    </tr>\n",
       "    <tr>\n",
       "      <th>wondering</th>\n",
       "      <td>2.848091</td>\n",
       "    </tr>\n",
       "    <tr>\n",
       "      <th>company</th>\n",
       "      <td>2.810685</td>\n",
       "    </tr>\n",
       "    <tr>\n",
       "      <th>hi</th>\n",
       "      <td>2.610467</td>\n",
       "    </tr>\n",
       "    <tr>\n",
       "      <th>invest</th>\n",
       "      <td>2.603713</td>\n",
       "    </tr>\n",
       "    <tr>\n",
       "      <th>thanks</th>\n",
       "      <td>2.436775</td>\n",
       "    </tr>\n",
       "  </tbody>\n",
       "</table>\n",
       "</div>"
      ],
      "text/plain": [
       "                  0\n",
       "stock      6.009859\n",
       "investing  3.712578\n",
       "share      3.190805\n",
       "opinion    3.008397\n",
       "year       2.923126\n",
       "wondering  2.848091\n",
       "company    2.810685\n",
       "hi         2.610467\n",
       "invest     2.603713\n",
       "thanks     2.436775"
      ]
     },
     "execution_count": 128,
     "metadata": {},
     "output_type": "execute_result"
    }
   ],
   "source": [
    "top10_coef = log_coefs.T.sort_values(0, ascending=False).head(10)\n",
    "top10_coef"
   ]
  },
  {
   "cell_type": "code",
   "execution_count": 132,
   "metadata": {},
   "outputs": [
    {
     "data": {
      "text/html": [
       "<div>\n",
       "<style scoped>\n",
       "    .dataframe tbody tr th:only-of-type {\n",
       "        vertical-align: middle;\n",
       "    }\n",
       "\n",
       "    .dataframe tbody tr th {\n",
       "        vertical-align: top;\n",
       "    }\n",
       "\n",
       "    .dataframe thead th {\n",
       "        text-align: right;\n",
       "    }\n",
       "</style>\n",
       "<table border=\"1\" class=\"dataframe\">\n",
       "  <thead>\n",
       "    <tr style=\"text-align: right;\">\n",
       "      <th></th>\n",
       "      <th>0</th>\n",
       "    </tr>\n",
       "  </thead>\n",
       "  <tbody>\n",
       "    <tr>\n",
       "      <th>autist</th>\n",
       "      <td>-4.556549</td>\n",
       "    </tr>\n",
       "    <tr>\n",
       "      <th>wsb</th>\n",
       "      <td>-4.732552</td>\n",
       "    </tr>\n",
       "    <tr>\n",
       "      <th>shit</th>\n",
       "      <td>-5.267789</td>\n",
       "    </tr>\n",
       "    <tr>\n",
       "      <th>fuck</th>\n",
       "      <td>-5.452970</td>\n",
       "    </tr>\n",
       "    <tr>\n",
       "      <th>417</th>\n",
       "      <td>-5.519273</td>\n",
       "    </tr>\n",
       "    <tr>\n",
       "      <th>autists</th>\n",
       "      <td>-5.565215</td>\n",
       "    </tr>\n",
       "    <tr>\n",
       "      <th>retard</th>\n",
       "      <td>-5.736320</td>\n",
       "    </tr>\n",
       "    <tr>\n",
       "      <th>tendies</th>\n",
       "      <td>-6.199130</td>\n",
       "    </tr>\n",
       "    <tr>\n",
       "      <th>spy</th>\n",
       "      <td>-7.518260</td>\n",
       "    </tr>\n",
       "    <tr>\n",
       "      <th>tldr</th>\n",
       "      <td>-8.156098</td>\n",
       "    </tr>\n",
       "  </tbody>\n",
       "</table>\n",
       "</div>"
      ],
      "text/plain": [
       "                0\n",
       "autist  -4.556549\n",
       "wsb     -4.732552\n",
       "shit    -5.267789\n",
       "fuck    -5.452970\n",
       "417     -5.519273\n",
       "autists -5.565215\n",
       "retard  -5.736320\n",
       "tendies -6.199130\n",
       "spy     -7.518260\n",
       "tldr    -8.156098"
      ]
     },
     "execution_count": 132,
     "metadata": {},
     "output_type": "execute_result"
    }
   ],
   "source": [
    "# The result is swears and name-calling!\n",
    "bottom10_coef = log_coefs.T.sort_values(0, ascending=False).tail(10)\n"
   ]
  },
  {
   "cell_type": "code",
   "execution_count": 220,
   "metadata": {},
   "outputs": [
    {
     "ename": "ValueError",
     "evalue": "Length of values does not match length of index",
     "output_type": "error",
     "traceback": [
      "\u001b[0;31m---------------------------------------------------------------------------\u001b[0m",
      "\u001b[0;31mValueError\u001b[0m                                Traceback (most recent call last)",
      "\u001b[0;32m<ipython-input-220-942c2b09d650>\u001b[0m in \u001b[0;36m<module>\u001b[0;34m\u001b[0m\n\u001b[1;32m      1\u001b[0m \u001b[0mcoefs_vis\u001b[0m \u001b[0;34m=\u001b[0m \u001b[0mpd\u001b[0m\u001b[0;34m.\u001b[0m\u001b[0mconcat\u001b[0m\u001b[0;34m(\u001b[0m\u001b[0;34m[\u001b[0m\u001b[0mtop10_coef\u001b[0m\u001b[0;34m,\u001b[0m \u001b[0mbottom10_coef\u001b[0m\u001b[0;34m]\u001b[0m\u001b[0;34m,\u001b[0m \u001b[0maxis\u001b[0m\u001b[0;34m=\u001b[0m\u001b[0;36m0\u001b[0m\u001b[0;34m)\u001b[0m\u001b[0;34m\u001b[0m\u001b[0;34m\u001b[0m\u001b[0m\n\u001b[0;32m----> 2\u001b[0;31m \u001b[0mcoefs_vis\u001b[0m\u001b[0;34m[\u001b[0m\u001b[0;34m'exp'\u001b[0m\u001b[0;34m]\u001b[0m \u001b[0;34m=\u001b[0m \u001b[0;34m[\u001b[0m\u001b[0mnp\u001b[0m\u001b[0;34m.\u001b[0m\u001b[0mexp\u001b[0m\u001b[0;34m(\u001b[0m\u001b[0mi\u001b[0m\u001b[0;34m)\u001b[0m \u001b[0;32mfor\u001b[0m \u001b[0mi\u001b[0m \u001b[0;32min\u001b[0m \u001b[0mcoefs_vis\u001b[0m\u001b[0;34m[\u001b[0m\u001b[0;36m0\u001b[0m\u001b[0;34m]\u001b[0m\u001b[0;34m[\u001b[0m\u001b[0;36m10\u001b[0m\u001b[0;34m:\u001b[0m\u001b[0;34m]\u001b[0m\u001b[0;34m]\u001b[0m\u001b[0;34m\u001b[0m\u001b[0;34m\u001b[0m\u001b[0m\n\u001b[0m\u001b[1;32m      3\u001b[0m \u001b[0mcoefs_vis\u001b[0m\u001b[0;34m[\u001b[0m\u001b[0;36m10\u001b[0m\u001b[0;34m:\u001b[0m\u001b[0;34m]\u001b[0m\u001b[0;34m\u001b[0m\u001b[0;34m\u001b[0m\u001b[0m\n",
      "\u001b[0;32m~/opt/anaconda3/envs/dsi/lib/python3.7/site-packages/pandas/core/frame.py\u001b[0m in \u001b[0;36m__setitem__\u001b[0;34m(self, key, value)\u001b[0m\n\u001b[1;32m   2936\u001b[0m         \u001b[0;32melse\u001b[0m\u001b[0;34m:\u001b[0m\u001b[0;34m\u001b[0m\u001b[0;34m\u001b[0m\u001b[0m\n\u001b[1;32m   2937\u001b[0m             \u001b[0;31m# set column\u001b[0m\u001b[0;34m\u001b[0m\u001b[0;34m\u001b[0m\u001b[0;34m\u001b[0m\u001b[0m\n\u001b[0;32m-> 2938\u001b[0;31m             \u001b[0mself\u001b[0m\u001b[0;34m.\u001b[0m\u001b[0m_set_item\u001b[0m\u001b[0;34m(\u001b[0m\u001b[0mkey\u001b[0m\u001b[0;34m,\u001b[0m \u001b[0mvalue\u001b[0m\u001b[0;34m)\u001b[0m\u001b[0;34m\u001b[0m\u001b[0;34m\u001b[0m\u001b[0m\n\u001b[0m\u001b[1;32m   2939\u001b[0m \u001b[0;34m\u001b[0m\u001b[0m\n\u001b[1;32m   2940\u001b[0m     \u001b[0;32mdef\u001b[0m \u001b[0m_setitem_slice\u001b[0m\u001b[0;34m(\u001b[0m\u001b[0mself\u001b[0m\u001b[0;34m,\u001b[0m \u001b[0mkey\u001b[0m\u001b[0;34m,\u001b[0m \u001b[0mvalue\u001b[0m\u001b[0;34m)\u001b[0m\u001b[0;34m:\u001b[0m\u001b[0;34m\u001b[0m\u001b[0;34m\u001b[0m\u001b[0m\n",
      "\u001b[0;32m~/opt/anaconda3/envs/dsi/lib/python3.7/site-packages/pandas/core/frame.py\u001b[0m in \u001b[0;36m_set_item\u001b[0;34m(self, key, value)\u001b[0m\n\u001b[1;32m   2998\u001b[0m \u001b[0;34m\u001b[0m\u001b[0m\n\u001b[1;32m   2999\u001b[0m         \u001b[0mself\u001b[0m\u001b[0;34m.\u001b[0m\u001b[0m_ensure_valid_index\u001b[0m\u001b[0;34m(\u001b[0m\u001b[0mvalue\u001b[0m\u001b[0;34m)\u001b[0m\u001b[0;34m\u001b[0m\u001b[0;34m\u001b[0m\u001b[0m\n\u001b[0;32m-> 3000\u001b[0;31m         \u001b[0mvalue\u001b[0m \u001b[0;34m=\u001b[0m \u001b[0mself\u001b[0m\u001b[0;34m.\u001b[0m\u001b[0m_sanitize_column\u001b[0m\u001b[0;34m(\u001b[0m\u001b[0mkey\u001b[0m\u001b[0;34m,\u001b[0m \u001b[0mvalue\u001b[0m\u001b[0;34m)\u001b[0m\u001b[0;34m\u001b[0m\u001b[0;34m\u001b[0m\u001b[0m\n\u001b[0m\u001b[1;32m   3001\u001b[0m         \u001b[0mNDFrame\u001b[0m\u001b[0;34m.\u001b[0m\u001b[0m_set_item\u001b[0m\u001b[0;34m(\u001b[0m\u001b[0mself\u001b[0m\u001b[0;34m,\u001b[0m \u001b[0mkey\u001b[0m\u001b[0;34m,\u001b[0m \u001b[0mvalue\u001b[0m\u001b[0;34m)\u001b[0m\u001b[0;34m\u001b[0m\u001b[0;34m\u001b[0m\u001b[0m\n\u001b[1;32m   3002\u001b[0m \u001b[0;34m\u001b[0m\u001b[0m\n",
      "\u001b[0;32m~/opt/anaconda3/envs/dsi/lib/python3.7/site-packages/pandas/core/frame.py\u001b[0m in \u001b[0;36m_sanitize_column\u001b[0;34m(self, key, value, broadcast)\u001b[0m\n\u001b[1;32m   3634\u001b[0m \u001b[0;34m\u001b[0m\u001b[0m\n\u001b[1;32m   3635\u001b[0m             \u001b[0;31m# turn me into an ndarray\u001b[0m\u001b[0;34m\u001b[0m\u001b[0;34m\u001b[0m\u001b[0;34m\u001b[0m\u001b[0m\n\u001b[0;32m-> 3636\u001b[0;31m             \u001b[0mvalue\u001b[0m \u001b[0;34m=\u001b[0m \u001b[0msanitize_index\u001b[0m\u001b[0;34m(\u001b[0m\u001b[0mvalue\u001b[0m\u001b[0;34m,\u001b[0m \u001b[0mself\u001b[0m\u001b[0;34m.\u001b[0m\u001b[0mindex\u001b[0m\u001b[0;34m,\u001b[0m \u001b[0mcopy\u001b[0m\u001b[0;34m=\u001b[0m\u001b[0;32mFalse\u001b[0m\u001b[0;34m)\u001b[0m\u001b[0;34m\u001b[0m\u001b[0;34m\u001b[0m\u001b[0m\n\u001b[0m\u001b[1;32m   3637\u001b[0m             \u001b[0;32mif\u001b[0m \u001b[0;32mnot\u001b[0m \u001b[0misinstance\u001b[0m\u001b[0;34m(\u001b[0m\u001b[0mvalue\u001b[0m\u001b[0;34m,\u001b[0m \u001b[0;34m(\u001b[0m\u001b[0mnp\u001b[0m\u001b[0;34m.\u001b[0m\u001b[0mndarray\u001b[0m\u001b[0;34m,\u001b[0m \u001b[0mIndex\u001b[0m\u001b[0;34m)\u001b[0m\u001b[0;34m)\u001b[0m\u001b[0;34m:\u001b[0m\u001b[0;34m\u001b[0m\u001b[0;34m\u001b[0m\u001b[0m\n\u001b[1;32m   3638\u001b[0m                 \u001b[0;32mif\u001b[0m \u001b[0misinstance\u001b[0m\u001b[0;34m(\u001b[0m\u001b[0mvalue\u001b[0m\u001b[0;34m,\u001b[0m \u001b[0mlist\u001b[0m\u001b[0;34m)\u001b[0m \u001b[0;32mand\u001b[0m \u001b[0mlen\u001b[0m\u001b[0;34m(\u001b[0m\u001b[0mvalue\u001b[0m\u001b[0;34m)\u001b[0m \u001b[0;34m>\u001b[0m \u001b[0;36m0\u001b[0m\u001b[0;34m:\u001b[0m\u001b[0;34m\u001b[0m\u001b[0;34m\u001b[0m\u001b[0m\n",
      "\u001b[0;32m~/opt/anaconda3/envs/dsi/lib/python3.7/site-packages/pandas/core/internals/construction.py\u001b[0m in \u001b[0;36msanitize_index\u001b[0;34m(data, index, copy)\u001b[0m\n\u001b[1;32m    609\u001b[0m \u001b[0;34m\u001b[0m\u001b[0m\n\u001b[1;32m    610\u001b[0m     \u001b[0;32mif\u001b[0m \u001b[0mlen\u001b[0m\u001b[0;34m(\u001b[0m\u001b[0mdata\u001b[0m\u001b[0;34m)\u001b[0m \u001b[0;34m!=\u001b[0m \u001b[0mlen\u001b[0m\u001b[0;34m(\u001b[0m\u001b[0mindex\u001b[0m\u001b[0;34m)\u001b[0m\u001b[0;34m:\u001b[0m\u001b[0;34m\u001b[0m\u001b[0;34m\u001b[0m\u001b[0m\n\u001b[0;32m--> 611\u001b[0;31m         \u001b[0;32mraise\u001b[0m \u001b[0mValueError\u001b[0m\u001b[0;34m(\u001b[0m\u001b[0;34m\"Length of values does not match length of index\"\u001b[0m\u001b[0;34m)\u001b[0m\u001b[0;34m\u001b[0m\u001b[0;34m\u001b[0m\u001b[0m\n\u001b[0m\u001b[1;32m    612\u001b[0m \u001b[0;34m\u001b[0m\u001b[0m\n\u001b[1;32m    613\u001b[0m     \u001b[0;32mif\u001b[0m \u001b[0misinstance\u001b[0m\u001b[0;34m(\u001b[0m\u001b[0mdata\u001b[0m\u001b[0;34m,\u001b[0m \u001b[0mABCIndexClass\u001b[0m\u001b[0;34m)\u001b[0m \u001b[0;32mand\u001b[0m \u001b[0;32mnot\u001b[0m \u001b[0mcopy\u001b[0m\u001b[0;34m:\u001b[0m\u001b[0;34m\u001b[0m\u001b[0;34m\u001b[0m\u001b[0m\n",
      "\u001b[0;31mValueError\u001b[0m: Length of values does not match length of index"
     ]
    }
   ],
   "source": [
    "# Concatenating top 10 coefs from both dataframes\n",
    "coefs_vis = pd.concat([top10_coef, bottom10_coef], axis=0)\n"
   ]
  },
  {
   "cell_type": "code",
   "execution_count": 209,
   "metadata": {},
   "outputs": [
    {
     "data": {
      "image/png": "[encoded data removed]",
      "text/plain": [
       "<Figure size 576x576 with 1 Axes>"
      ]
     },
     "metadata": {},
     "output_type": "display_data"
    }
   ],
   "source": [
    "plt.style.use('seaborn-pastel')\n",
    "plt.figure(figsize=(8, 8))\n",
    "plt.barh(y=coefs_vis.index, width=coefs_vis[0])\n",
    "plt.title('Logistic Regression Coefficients', fontsize=15, fontweight='bold')\n",
    "plt.xlabel('Coefficient')\n",
    "plt.xticks(np.arange(-8, 7,1), labels=np.arange(-8, 7, 1))\n",
    "plt.yticks(fontsize=16, fontweight='bold')\n",
    "plt.savefig('Coefs.jpeg', bbox_inches = \"tight\");"
   ]
  },
  {
   "cell_type": "code",
   "execution_count": 210,
   "metadata": {},
   "outputs": [],
   "source": [
    "# Calculate ROC AUC\n",
    "def roc(probas, true, step=0.01):\n",
    "    probas = probas[:,1]  \n",
    "    true = true.values    \n",
    "    assert(len(probas) == len(true)) \n",
    "    TPRs = [] \n",
    "    FPRs = [] \n",
    "    for i in np.arange(0.0,1.0,step): \n",
    "        preds_class = probas > i \n",
    "        TP = 0 \n",
    "        FP = 0\n",
    "        TN = 0\n",
    "        FN = 0\n",
    "        for index in range(len(preds_class)): \n",
    "            if preds_class[index] == 1 and true[index] == 1:\n",
    "                TP += 1\n",
    "            elif preds_class[index] == 1 and true[index] == 0:\n",
    "                FP += 1\n",
    "            elif preds_class[index] == 0 and true[index] == 0:\n",
    "                TN += 1 \n",
    "            elif preds_class[index] == 0 and true[index] == 1:\n",
    "                FN += 1\n",
    "        TPR = TP/(TP + FN) \n",
    "        FPR = FP/(FP + TN)\n",
    "        TPRs.append(TPR)\n",
    "        FPRs.append(FPR)\n",
    "    plt.figure(figsize=(8, 8))    \n",
    "    plt.rcParams['font.size'] = 14\n",
    "    plt.plot(FPRs, TPRs, color=\"orange\")\n",
    "    plt.plot([0,1],[0,1], color='navy', lw=2, linestyle='--')\n",
    "    plt.xlim([0.0, 1.0])\n",
    "    plt.ylim([0.0, 1.0])\n",
    "    plt.title('Receiver Operating Characteristic', fontsize=15, fontweight='bold')\n",
    "    plt.xlabel(\"False Positive Rate (1 - Specificity)\")\n",
    "    plt.ylabel(\"True Positive Rate (Sensitivity)\")\n",
    "    plt.show()\n",
    "    plt.savefig('AUC.jpeg', bbox_inches = \"tight\");\n",
    "# Code adapted from GA-DC-DSI Lab 4.02"
   ]
  },
  {
   "cell_type": "code",
   "execution_count": 211,
   "metadata": {},
   "outputs": [
    {
     "data": {
      "text/plain": [
       "0.8823493174875268"
      ]
     },
     "execution_count": 211,
     "metadata": {},
     "output_type": "execute_result"
    }
   ],
   "source": [
    "roc_tvec_lr"
   ]
  },
  {
   "cell_type": "code",
   "execution_count": 212,
   "metadata": {},
   "outputs": [
    {
     "data": {
      "image/png": "[encoded data removed]",
      "text/plain": [
       "<Figure size 576x576 with 1 Axes>"
      ]
     },
     "metadata": {},
     "output_type": "display_data"
    },
    {
     "data": {
      "text/plain": [
       "<Figure size 432x288 with 0 Axes>"
      ]
     },
     "metadata": {},
     "output_type": "display_data"
    }
   ],
   "source": [
    "probabilities = gs_tvec_lr.predict_proba(X_test)\n",
    "roc(probas = probabilities, true = y_test, step=0.001); "
   ]
  }
 ],
 "metadata": {
  "kernelspec": {
   "display_name": "Python 3.7.7 64-bit ('dsi': conda)",
   "language": "python",
   "name": "python37764bitdsicondaddfe0c05640c4e1581da44e0f6b96ae5"
  },
  "language_info": {
   "codemirror_mode": {
    "name": "ipython",
    "version": 3
   },
   "file_extension": ".py",
   "mimetype": "text/x-python",
   "name": "python",
   "nbconvert_exporter": "python",
   "pygments_lexer": "ipython3",
   "version": "3.7.7"
  }
 },
 "nbformat": 4,
 "nbformat_minor": 4
}
