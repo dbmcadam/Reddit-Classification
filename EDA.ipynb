{
 "cells": [
  {
   "cell_type": "markdown",
   "metadata": {},
   "source": [
    "## Data Cleaning & EDA"
   ]
  },
  {
   "cell_type": "code",
   "execution_count": 20,
   "metadata": {},
   "outputs": [],
   "source": [
    "import numpy as np\n",
    "import pandas as pd\n",
    "import matplotlib.pyplot as plt\n",
    "import seaborn as sns\n",
    "from bs4 import BeautifulSoup\n",
    "import regex as re\n",
    "\n",
    "\n",
    "from nltk.corpus import stopwords\n",
    "from nltk.stem import WordNetLemmatizer\n",
    "from nltk.tokenize import RegexpTokenizer\n",
    "from sklearn.feature_extraction.text import CountVectorizer"
   ]
  },
  {
   "cell_type": "code",
   "execution_count": 2,
   "metadata": {},
   "outputs": [],
   "source": [
    "data = pd.read_csv('reddit_clean.csv')"
   ]
  },
  {
   "cell_type": "code",
   "execution_count": 3,
   "metadata": {},
   "outputs": [
    {
     "name": "stdout",
     "output_type": "stream",
     "text": [
      "<class 'pandas.core.frame.DataFrame'>\n",
      "RangeIndex: 24494 entries, 0 to 24493\n",
      "Data columns (total 4 columns):\n",
      " #   Column       Non-Null Count  Dtype \n",
      "---  ------       --------------  ----- \n",
      " 0   subreddit    24494 non-null  object\n",
      " 1   title        24494 non-null  object\n",
      " 2   selftext     24494 non-null  object\n",
      " 3   created_utc  24494 non-null  int64 \n",
      "dtypes: int64(1), object(3)\n",
      "memory usage: 765.6+ KB\n"
     ]
    }
   ],
   "source": [
    "data.info()"
   ]
  },
  {
   "cell_type": "code",
   "execution_count": 4,
   "metadata": {},
   "outputs": [
    {
     "data": {
      "text/plain": [
       "subreddit      0\n",
       "title          0\n",
       "selftext       0\n",
       "created_utc    0\n",
       "dtype: int64"
      ]
     },
     "execution_count": 4,
     "metadata": {},
     "output_type": "execute_result"
    }
   ],
   "source": [
    "data.isnull().sum()"
   ]
  },
  {
   "cell_type": "code",
   "execution_count": 5,
   "metadata": {},
   "outputs": [
    {
     "data": {
      "text/plain": [
       "stocks            0.515065\n",
       "wallstreetbets    0.484935\n",
       "Name: subreddit, dtype: float64"
      ]
     },
     "execution_count": 5,
     "metadata": {},
     "output_type": "execute_result"
    }
   ],
   "source": [
    "data['subreddit'].value_counts(normalize=True)"
   ]
  },
  {
   "cell_type": "code",
   "execution_count": 6,
   "metadata": {},
   "outputs": [],
   "source": [
    "#  remoiving emojis and other unicode from text \n",
    "# adatped from https://stackoverflow.com/questions/33404752/removing-emojis-from-a-string-in-python\n",
    "\n",
    "def remove_emoji(data):\n",
    "    '''\n",
    "    Removes unicode text and replace with nothing\n",
    "    '''\n",
    "    \n",
    "    emoj = re.compile(\"[\"\n",
    "        u\"\\U0001F600-\\U0001F64F\"  # emojis\n",
    "        u\"\\U0001F300-\\U0001F5FF\"  # symbols & pictographs\n",
    "        u\"\\U0001F680-\\U0001F6FF\"  # transport & map symbols\n",
    "        u\"\\U0001F1E0-\\U0001F1FF\"  # flags (iOS)\n",
    "        u\"\\U00002500-\\U00002BEF\"  # chinese char\n",
    "        u\"\\U00002702-\\U000027B0\"\n",
    "        u\"\\U00002702-\\U000027B0\"\n",
    "        u\"\\U000024C2-\\U0001F251\"\n",
    "        u\"\\U0001f926-\\U0001f937\"\n",
    "        u\"\\U00010000-\\U0010ffff\"\n",
    "        u\"\\u2640-\\u2642\" \n",
    "        u\"\\u2600-\\u2B55\"\n",
    "        u\"\\u200d\"\n",
    "        u\"\\u23cf\"\n",
    "        u\"\\u23e9\"\n",
    "        u\"\\u231a\"\n",
    "        u\"\\ufe0f\"  \n",
    "        u\"\\u3030\"\n",
    "                      \"]+\", re.UNICODE)\n",
    "    return re.sub(emoj, '', data)"
   ]
  },
  {
   "cell_type": "code",
   "execution_count": 7,
   "metadata": {},
   "outputs": [],
   "source": [
    "\n",
    "def clean_text(text):\n",
    "    '''\n",
    "    Remove Emoji, html tags, URLS and punctuation -- returns text.\n",
    "    '''\n",
    "    text = remove_emoji(text)\n",
    "    # remove HTML tags and URLs\n",
    "    text = re.sub(r'<.*?>', '', text)\n",
    "    text = re.sub(r'^https?:\\/\\/.*[\\r\\n]*','',text)\n",
    "    \n",
    "    # keep only text without punctuation\n",
    "    text = re.sub(r'[^\\w\\s]','',text)\n",
    "    \n",
    "    return text"
   ]
  },
  {
   "cell_type": "code",
   "execution_count": 8,
   "metadata": {},
   "outputs": [],
   "source": [
    "# Apply clean_text to title column\n",
    "data['pro_title'] = data['title'].apply(lambda x: clean_text(x))"
   ]
  },
  {
   "cell_type": "code",
   "execution_count": 9,
   "metadata": {},
   "outputs": [],
   "source": [
    "# Apply clean_text to text column\n",
    "data['pro_selftext'] = data['selftext'].apply(lambda x: clean_text(x))"
   ]
  },
  {
   "cell_type": "code",
   "execution_count": 10,
   "metadata": {},
   "outputs": [
    {
     "data": {
      "text/html": [
       "<div>\n",
       "<style scoped>\n",
       "    .dataframe tbody tr th:only-of-type {\n",
       "        vertical-align: middle;\n",
       "    }\n",
       "\n",
       "    .dataframe tbody tr th {\n",
       "        vertical-align: top;\n",
       "    }\n",
       "\n",
       "    .dataframe thead th {\n",
       "        text-align: right;\n",
       "    }\n",
       "</style>\n",
       "<table border=\"1\" class=\"dataframe\">\n",
       "  <thead>\n",
       "    <tr style=\"text-align: right;\">\n",
       "      <th></th>\n",
       "      <th>subreddit</th>\n",
       "      <th>title</th>\n",
       "      <th>selftext</th>\n",
       "      <th>created_utc</th>\n",
       "      <th>pro_title</th>\n",
       "      <th>pro_selftext</th>\n",
       "    </tr>\n",
       "  </thead>\n",
       "  <tbody>\n",
       "    <tr>\n",
       "      <th>0</th>\n",
       "      <td>stocks</td>\n",
       "      <td>$TK &amp;amp; $TNK</td>\n",
       "      <td>Thoughts on Teekay (TK) &amp;amp; Teekay Tankers (...</td>\n",
       "      <td>1587476965</td>\n",
       "      <td>TK amp TNK</td>\n",
       "      <td>Thoughts on Teekay TK amp Teekay Tankers TNK T...</td>\n",
       "    </tr>\n",
       "    <tr>\n",
       "      <th>1</th>\n",
       "      <td>stocks</td>\n",
       "      <td>Investing Frameworks</td>\n",
       "      <td>Are there any frameworks/ concepts that you ha...</td>\n",
       "      <td>1587474494</td>\n",
       "      <td>Investing Frameworks</td>\n",
       "      <td>Are there any frameworks concepts that you hav...</td>\n",
       "    </tr>\n",
       "    <tr>\n",
       "      <th>2</th>\n",
       "      <td>stocks</td>\n",
       "      <td>Long term growth calculation</td>\n",
       "      <td>Hi there, \\n\\n&amp;amp;#x200B;\\n\\nI want to valuat...</td>\n",
       "      <td>1587474287</td>\n",
       "      <td>Long term growth calculation</td>\n",
       "      <td>Hi there \\n\\nampx200B\\n\\nI want to valuate a c...</td>\n",
       "    </tr>\n",
       "    <tr>\n",
       "      <th>3</th>\n",
       "      <td>stocks</td>\n",
       "      <td>Is this the perfect time for NEW companies to ...</td>\n",
       "      <td>This pandemic has demonstrated how badly thing...</td>\n",
       "      <td>1587473864</td>\n",
       "      <td>Is this the perfect time for NEW companies to ...</td>\n",
       "      <td>This pandemic has demonstrated how badly thing...</td>\n",
       "    </tr>\n",
       "    <tr>\n",
       "      <th>4</th>\n",
       "      <td>stocks</td>\n",
       "      <td>Is anyone else losing faith in the stock market?</td>\n",
       "      <td>Maybe stocks will crash again, maybe stocks wi...</td>\n",
       "      <td>1587473142</td>\n",
       "      <td>Is anyone else losing faith in the stock market</td>\n",
       "      <td>Maybe stocks will crash again maybe stocks wil...</td>\n",
       "    </tr>\n",
       "  </tbody>\n",
       "</table>\n",
       "</div>"
      ],
      "text/plain": [
       "  subreddit                                              title  \\\n",
       "0    stocks                                     $TK &amp; $TNK   \n",
       "1    stocks                               Investing Frameworks   \n",
       "2    stocks                       Long term growth calculation   \n",
       "3    stocks  Is this the perfect time for NEW companies to ...   \n",
       "4    stocks   Is anyone else losing faith in the stock market?   \n",
       "\n",
       "                                            selftext  created_utc  \\\n",
       "0  Thoughts on Teekay (TK) &amp; Teekay Tankers (...   1587476965   \n",
       "1  Are there any frameworks/ concepts that you ha...   1587474494   \n",
       "2  Hi there, \\n\\n&amp;#x200B;\\n\\nI want to valuat...   1587474287   \n",
       "3  This pandemic has demonstrated how badly thing...   1587473864   \n",
       "4  Maybe stocks will crash again, maybe stocks wi...   1587473142   \n",
       "\n",
       "                                           pro_title  \\\n",
       "0                                         TK amp TNK   \n",
       "1                               Investing Frameworks   \n",
       "2                       Long term growth calculation   \n",
       "3  Is this the perfect time for NEW companies to ...   \n",
       "4    Is anyone else losing faith in the stock market   \n",
       "\n",
       "                                        pro_selftext  \n",
       "0  Thoughts on Teekay TK amp Teekay Tankers TNK T...  \n",
       "1  Are there any frameworks concepts that you hav...  \n",
       "2  Hi there \\n\\nampx200B\\n\\nI want to valuate a c...  \n",
       "3  This pandemic has demonstrated how badly thing...  \n",
       "4  Maybe stocks will crash again maybe stocks wil...  "
      ]
     },
     "execution_count": 10,
     "metadata": {},
     "output_type": "execute_result"
    }
   ],
   "source": [
    "data.head()"
   ]
  },
  {
   "cell_type": "code",
   "execution_count": 11,
   "metadata": {},
   "outputs": [],
   "source": [
    "# Adapted from DC_Flex week 5\n",
    "def create_lemmas(text):\n",
    "    '''return lowercased, lemmatizeed list of words as a string from a document passed in '''\n",
    "   \n",
    "    lemmer = WordNetLemmatizer()\n",
    "    return ' '.join([lemmer.lemmatize(word) for word in text.split()])"
   ]
  },
  {
   "cell_type": "code",
   "execution_count": 12,
   "metadata": {},
   "outputs": [],
   "source": [
    "data['lem_title'] = data['pro_title'].apply(lambda x: create_lemmas(x))"
   ]
  },
  {
   "cell_type": "code",
   "execution_count": 13,
   "metadata": {},
   "outputs": [],
   "source": [
    "data['lem_selftext'] = data['pro_selftext'].apply(lambda x: create_lemmas(x))"
   ]
  },
  {
   "cell_type": "code",
   "execution_count": 14,
   "metadata": {},
   "outputs": [
    {
     "data": {
      "text/html": [
       "<div>\n",
       "<style scoped>\n",
       "    .dataframe tbody tr th:only-of-type {\n",
       "        vertical-align: middle;\n",
       "    }\n",
       "\n",
       "    .dataframe tbody tr th {\n",
       "        vertical-align: top;\n",
       "    }\n",
       "\n",
       "    .dataframe thead th {\n",
       "        text-align: right;\n",
       "    }\n",
       "</style>\n",
       "<table border=\"1\" class=\"dataframe\">\n",
       "  <thead>\n",
       "    <tr style=\"text-align: right;\">\n",
       "      <th></th>\n",
       "      <th>subreddit</th>\n",
       "      <th>title</th>\n",
       "      <th>selftext</th>\n",
       "      <th>created_utc</th>\n",
       "      <th>pro_title</th>\n",
       "      <th>pro_selftext</th>\n",
       "      <th>lem_title</th>\n",
       "      <th>lem_selftext</th>\n",
       "    </tr>\n",
       "  </thead>\n",
       "  <tbody>\n",
       "    <tr>\n",
       "      <th>0</th>\n",
       "      <td>stocks</td>\n",
       "      <td>$TK &amp;amp; $TNK</td>\n",
       "      <td>Thoughts on Teekay (TK) &amp;amp; Teekay Tankers (...</td>\n",
       "      <td>1587476965</td>\n",
       "      <td>TK amp TNK</td>\n",
       "      <td>Thoughts on Teekay TK amp Teekay Tankers TNK T...</td>\n",
       "      <td>TK amp TNK</td>\n",
       "      <td>Thoughts on Teekay TK amp Teekay Tankers TNK T...</td>\n",
       "    </tr>\n",
       "    <tr>\n",
       "      <th>1</th>\n",
       "      <td>stocks</td>\n",
       "      <td>Investing Frameworks</td>\n",
       "      <td>Are there any frameworks/ concepts that you ha...</td>\n",
       "      <td>1587474494</td>\n",
       "      <td>Investing Frameworks</td>\n",
       "      <td>Are there any frameworks concepts that you hav...</td>\n",
       "      <td>Investing Frameworks</td>\n",
       "      <td>Are there any framework concept that you have ...</td>\n",
       "    </tr>\n",
       "    <tr>\n",
       "      <th>2</th>\n",
       "      <td>stocks</td>\n",
       "      <td>Long term growth calculation</td>\n",
       "      <td>Hi there, \\n\\n&amp;amp;#x200B;\\n\\nI want to valuat...</td>\n",
       "      <td>1587474287</td>\n",
       "      <td>Long term growth calculation</td>\n",
       "      <td>Hi there \\n\\nampx200B\\n\\nI want to valuate a c...</td>\n",
       "      <td>Long term growth calculation</td>\n",
       "      <td>Hi there ampx200B I want to valuate a company ...</td>\n",
       "    </tr>\n",
       "    <tr>\n",
       "      <th>3</th>\n",
       "      <td>stocks</td>\n",
       "      <td>Is this the perfect time for NEW companies to ...</td>\n",
       "      <td>This pandemic has demonstrated how badly thing...</td>\n",
       "      <td>1587473864</td>\n",
       "      <td>Is this the perfect time for NEW companies to ...</td>\n",
       "      <td>This pandemic has demonstrated how badly thing...</td>\n",
       "      <td>Is this the perfect time for NEW company to ta...</td>\n",
       "      <td>This pandemic ha demonstrated how badly thing ...</td>\n",
       "    </tr>\n",
       "    <tr>\n",
       "      <th>4</th>\n",
       "      <td>stocks</td>\n",
       "      <td>Is anyone else losing faith in the stock market?</td>\n",
       "      <td>Maybe stocks will crash again, maybe stocks wi...</td>\n",
       "      <td>1587473142</td>\n",
       "      <td>Is anyone else losing faith in the stock market</td>\n",
       "      <td>Maybe stocks will crash again maybe stocks wil...</td>\n",
       "      <td>Is anyone else losing faith in the stock market</td>\n",
       "      <td>Maybe stock will crash again maybe stock will ...</td>\n",
       "    </tr>\n",
       "  </tbody>\n",
       "</table>\n",
       "</div>"
      ],
      "text/plain": [
       "  subreddit                                              title  \\\n",
       "0    stocks                                     $TK &amp; $TNK   \n",
       "1    stocks                               Investing Frameworks   \n",
       "2    stocks                       Long term growth calculation   \n",
       "3    stocks  Is this the perfect time for NEW companies to ...   \n",
       "4    stocks   Is anyone else losing faith in the stock market?   \n",
       "\n",
       "                                            selftext  created_utc  \\\n",
       "0  Thoughts on Teekay (TK) &amp; Teekay Tankers (...   1587476965   \n",
       "1  Are there any frameworks/ concepts that you ha...   1587474494   \n",
       "2  Hi there, \\n\\n&amp;#x200B;\\n\\nI want to valuat...   1587474287   \n",
       "3  This pandemic has demonstrated how badly thing...   1587473864   \n",
       "4  Maybe stocks will crash again, maybe stocks wi...   1587473142   \n",
       "\n",
       "                                           pro_title  \\\n",
       "0                                         TK amp TNK   \n",
       "1                               Investing Frameworks   \n",
       "2                       Long term growth calculation   \n",
       "3  Is this the perfect time for NEW companies to ...   \n",
       "4    Is anyone else losing faith in the stock market   \n",
       "\n",
       "                                        pro_selftext  \\\n",
       "0  Thoughts on Teekay TK amp Teekay Tankers TNK T...   \n",
       "1  Are there any frameworks concepts that you hav...   \n",
       "2  Hi there \\n\\nampx200B\\n\\nI want to valuate a c...   \n",
       "3  This pandemic has demonstrated how badly thing...   \n",
       "4  Maybe stocks will crash again maybe stocks wil...   \n",
       "\n",
       "                                           lem_title  \\\n",
       "0                                         TK amp TNK   \n",
       "1                               Investing Frameworks   \n",
       "2                       Long term growth calculation   \n",
       "3  Is this the perfect time for NEW company to ta...   \n",
       "4    Is anyone else losing faith in the stock market   \n",
       "\n",
       "                                        lem_selftext  \n",
       "0  Thoughts on Teekay TK amp Teekay Tankers TNK T...  \n",
       "1  Are there any framework concept that you have ...  \n",
       "2  Hi there ampx200B I want to valuate a company ...  \n",
       "3  This pandemic ha demonstrated how badly thing ...  \n",
       "4  Maybe stock will crash again maybe stock will ...  "
      ]
     },
     "execution_count": 14,
     "metadata": {},
     "output_type": "execute_result"
    }
   ],
   "source": [
    "data.head()"
   ]
  },
  {
   "cell_type": "code",
   "execution_count": 15,
   "metadata": {},
   "outputs": [],
   "source": [
    "lem_self_text = [w for w in data['lem_selftext'] if w not in stopwords.words('english')]"
   ]
  },
  {
   "cell_type": "code",
   "execution_count": 21,
   "metadata": {},
   "outputs": [],
   "source": [
    "# Adapted From https://medium.com/analytics-vidhya/automated-keyword-extraction-from-articles-using-nlp-bfd864f41b34\n",
    "\n",
    "def get_top_n_words(corpus, n=None):\n",
    "    '''\n",
    "    Vectorize a corpus, sum the frequency, and return a sorted list\n",
    "    '''\n",
    "    \n",
    "    # instanciate and fit countvectorizer on corpus\n",
    "    cvec = CountVectorizer(stop_words='english').fit(corpus)\n",
    "    \n",
    "    # Transform corpus\n",
    "    bag_of_words = cvec.transform(corpus)\n",
    "    \n",
    "    # sum words in bag of words\n",
    "    sum_words = bag_of_words.sum(axis=0) \n",
    "    \n",
    "    # tally word sum based on word\n",
    "    words_freq = [(word, sum_words[0, x]) for word, x in cvec.vocabulary_.items()]\n",
    "    \n",
    "    # Sort words_freq\n",
    "    words_freq =sorted(words_freq, key = lambda x: x[1], reverse=True)\n",
    "    return words_freq[:n]"
   ]
  },
  {
   "cell_type": "code",
   "execution_count": 17,
   "metadata": {},
   "outputs": [],
   "source": [
    "# creating dataframe of lemmatized stocks postings \n",
    "stock_lem_title20 = data[data['subreddit'] == 'stocks']"
   ]
  },
  {
   "cell_type": "code",
   "execution_count": 18,
   "metadata": {},
   "outputs": [],
   "source": [
    "# creating dataframe of lemmatized wallstbets postings \n",
    "bets_lem_title20 = data[data['subreddit'] == 'wallstreetbets']\n"
   ]
  },
  {
   "cell_type": "code",
   "execution_count": 22,
   "metadata": {},
   "outputs": [],
   "source": [
    "# Listing top20 words in wallstbets\n",
    "bets20 = get_top_n_words(bets_lem_title20['lem_title'], 20)\n",
    "bets20 = pd.DataFrame(bets20, columns=['Word', 'Frequency'])\n",
    "bets20.set_index('Word', inplace=True)"
   ]
  },
  {
   "cell_type": "code",
   "execution_count": 23,
   "metadata": {},
   "outputs": [],
   "source": [
    "# Listing top20 words in stocks\n",
    "stocks20 = get_top_n_words(stock_lem_title20['lem_title'], 20)\n",
    "stocks20 = pd.DataFrame(stocks20, columns=['Word', 'Frequency'])\n",
    "stocks20.set_index('Word', inplace=True)"
   ]
  },
  {
   "cell_type": "code",
   "execution_count": 29,
   "metadata": {},
   "outputs": [
    {
     "data": {
      "image/png": "[encoded data removed]",
      "text/plain": [
       "<Figure size 432x432 with 1 Axes>"
      ]
     },
     "metadata": {},
     "output_type": "display_data"
    }
   ],
   "source": [
    "plt.style.use('fivethirtyeight')\n",
    "plt.figure(figsize=(6, 6))\n",
    "plt.barh(y=stocks20.index, width=stocks20['Frequency'])\n",
    "plt.title('Stocks Subreddit: Top 20 Word Frequency', fontsize=15, fontweight='bold')\n",
    "plt.ylabel('Word')\n",
    "plt.xlabel('Frequency')\n",
    "plt.savefig('stocks.jpeg', bbox_inches = \"tight\");"
   ]
  },
  {
   "cell_type": "code",
   "execution_count": 30,
   "metadata": {},
   "outputs": [
    {
     "data": {
      "image/png": "[encoded data removed]",
      "text/plain": [
       "<Figure size 432x432 with 1 Axes>"
      ]
     },
     "metadata": {},
     "output_type": "display_data"
    }
   ],
   "source": [
    "plt.figure(figsize=(6, 6))\n",
    "plt.barh(y=bets20.index, width=bets20['Frequency'])\n",
    "plt.title('Wallstbets Subreddit: Top 20 Word Frequency', fontsize=15, fontweight='bold')\n",
    "plt.ylabel('Word')\n",
    "plt.xlabel('Frequency')\n",
    "plt.savefig('Wallst.jpeg', bbox_inches = \"tight\");"
   ]
  },
  {
   "cell_type": "code",
   "execution_count": 26,
   "metadata": {},
   "outputs": [],
   "source": [
    "# dummify subreddit to 1 and 0\n",
    "# data['subreddit'] = data['subreddit'].map({'stocks': 1, 'wallstreetbets': 0}) "
   ]
  },
  {
   "cell_type": "code",
   "execution_count": 21,
   "metadata": {},
   "outputs": [],
   "source": [
    "# data.to_csv('reddit_model.csv', index=False)"
   ]
  },
  {
   "cell_type": "code",
   "execution_count": null,
   "metadata": {},
   "outputs": [],
   "source": []
  }
 ],
 "metadata": {
  "kernelspec": {
   "display_name": "Python 3",
   "language": "python",
   "name": "python3"
  },
  "language_info": {
   "codemirror_mode": {
    "name": "ipython",
    "version": 3
   },
   "file_extension": ".py",
   "mimetype": "text/x-python",
   "name": "python",
   "nbconvert_exporter": "python",
   "pygments_lexer": "ipython3",
   "version": "3.7.7"
  }
 },
 "nbformat": 4,
 "nbformat_minor": 4
}
